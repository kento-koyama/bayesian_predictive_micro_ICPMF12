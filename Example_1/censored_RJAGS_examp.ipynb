{
  "nbformat": 4,
  "nbformat_minor": 0,
  "metadata": {
    "colab": {
      "provenance": [],
      "include_colab_link": true
    },
    "kernelspec": {
      "name": "ir",
      "display_name": "R"
    },
    "language_info": {
      "name": "R"
    },
    "gpuClass": "standard"
  },
  "cells": [
    {
      "cell_type": "markdown",
      "metadata": {
        "id": "view-in-github",
        "colab_type": "text"
      },
      "source": [
        "<a href=\"https://colab.research.google.com/github/kento-koyama/bayesian_predictive_micro_ICPMF12/blob/main/Example_1/censored_RJAGS_examp.ipynb\" target=\"_parent\"><img src=\"https://colab.research.google.com/assets/colab-badge.svg\" alt=\"Open In Colab\"/></a>"
      ]
    },
    {
      "cell_type": "markdown",
      "source": [
        "<table class=\"tfo-notebook-buttons\" align=\"left\">\n",
        "<td>\n",
        "<a target=\"_blank\" href=\"https://github.com/kento-koyama/bayesian_predictive_micro_ICPMF12/\"><img src=\"https://www.tensorflow.org/images/GitHub-Mark-32px.png\" />View source on GitHub</a>\n",
        "</td>\n",
        "</table>"
      ],
      "metadata": {
        "id": "cWaG4JWji0I5"
      }
    },
    {
      "cell_type": "markdown",
      "source": [
        "# Setting for RJAGS"
      ],
      "metadata": {
        "id": "3WLrm8QUf7B0"
      }
    },
    {
      "cell_type": "code",
      "source": [
        "uname <- system(\"uname -a\", intern = TRUE)\n",
        "cat(\"System information:\", uname, \"\\n\")\n",
        "# Get the current working directory\n",
        "cwd <- getwd()\n",
        "cat(\"Current working directory:\", cwd, \"\\n\")\n",
        "system(\"sudo apt-get update\")\n",
        "system(\"sudo apt-get install jags\")\n",
        "# Check the JAGS location\n",
        "jags_location <- system(\"which jags\", intern = TRUE)\n",
        "cat(\"JAGS Location:\", jags_location, \"\\n\")\n",
        "temp_file <- system(\"mktemp\", intern = TRUE)\n",
        "# Download the JAGS Wiener module .deb file\n",
        "jags_url <- \"https://launchpad.net/~cidlab/+archive/ubuntu/jwm/+files/jags-wiener-module_1.1-5_amd64.deb\"\n",
        "wget_result <- system2(\"wget\", c(\"-O\", temp_file, jags_url), stdout = TRUE, stderr = TRUE)\n",
        "wget_result\n",
        "# Install the JAGS Wiener module .deb file\n",
        "install_result <- system2(\"sudo\", c(\"dpkg\", \"-i\", temp_file), stdout = TRUE, stderr = TRUE)\n",
        "# Remove the JAGS Wiener module .deb file\n",
        "system(paste(\"rm -f\", temp_file))\n",
        "uname <- system(\"jags\", intern = TRUE)\n",
        "cat(\"System information:\", uname, \"\\n\")"
      ],
      "metadata": {
        "id": "Pn_rb4PdStc1",
        "colab": {
          "base_uri": "https://localhost:8080/",
          "height": 173
        },
        "outputId": "23b3a265-da8e-4a01-dc96-ec00e8e2de35"
      },
      "execution_count": null,
      "outputs": [
        {
          "output_type": "stream",
          "name": "stdout",
          "text": [
            "System information: Linux 5172a14a1ded 5.15.107+ #1 SMP Sat Apr 29 09:15:28 UTC 2023 x86_64 x86_64 x86_64 GNU/Linux \n",
            "Current working directory: /content \n",
            "JAGS Location: /usr/bin/jags \n"
          ]
        },
        {
          "output_type": "display_data",
          "data": {
            "text/html": [
              "<style>\n",
              ".list-inline {list-style: none; margin:0; padding: 0}\n",
              ".list-inline>li {display: inline-block}\n",
              ".list-inline>li:not(:last-child)::after {content: \"\\00b7\"; padding: 0 .5ex}\n",
              "</style>\n",
              "<ol class=list-inline><li><span style=white-space:pre-wrap>'--2023-05-23 14:42:57--  https://launchpad.net/~cidlab/+archive/ubuntu/jwm/+files/jags-wiener-module_1.1-5_amd64.deb'</span></li><li>'Resolving launchpad.net (launchpad.net)... 185.125.189.223, 185.125.189.222, 2620:2d:4000:1001::8003, ...'</li><li>'Connecting to launchpad.net (launchpad.net)|185.125.189.223|:443... connected.'</li><li>'HTTP request sent, awaiting response... 303 See Other'</li><li>'Location: https://launchpadlibrarian.net/289923160/jags-wiener-module_1.1-5_amd64.deb [following]'</li><li><span style=white-space:pre-wrap>'--2023-05-23 14:42:57--  https://launchpadlibrarian.net/289923160/jags-wiener-module_1.1-5_amd64.deb'</span></li><li>'Resolving launchpadlibrarian.net (launchpadlibrarian.net)... 185.125.189.228, 185.125.189.229, 2620:2d:4000:1001::8008, ...'</li><li>'Connecting to launchpadlibrarian.net (launchpadlibrarian.net)|185.125.189.228|:443... connected.'</li><li>'HTTP request sent, awaiting response... 200 OK'</li><li>'Length: 18376 (18K) [application/x-debian-package]'</li><li>'Saving to: ‘/tmp/tmp.QL3NsVaSsZ’'</li><li>''</li><li><span style=white-space:pre-wrap>'     0K .......... .......                                    100% 95.5M=0s'</span></li><li>''</li><li>'2023-05-23 14:42:58 (95.5 MB/s) - ‘/tmp/tmp.QL3NsVaSsZ’ saved [18376/18376]'</li><li>''</li></ol>\n"
            ],
            "text/markdown": "1. <span style=white-space:pre-wrap>'--2023-05-23 14:42:57--  https://launchpad.net/~cidlab/+archive/ubuntu/jwm/+files/jags-wiener-module_1.1-5_amd64.deb'</span>\n2. 'Resolving launchpad.net (launchpad.net)... 185.125.189.223, 185.125.189.222, 2620:2d:4000:1001::8003, ...'\n3. 'Connecting to launchpad.net (launchpad.net)|185.125.189.223|:443... connected.'\n4. 'HTTP request sent, awaiting response... 303 See Other'\n5. 'Location: https://launchpadlibrarian.net/289923160/jags-wiener-module_1.1-5_amd64.deb [following]'\n6. <span style=white-space:pre-wrap>'--2023-05-23 14:42:57--  https://launchpadlibrarian.net/289923160/jags-wiener-module_1.1-5_amd64.deb'</span>\n7. 'Resolving launchpadlibrarian.net (launchpadlibrarian.net)... 185.125.189.228, 185.125.189.229, 2620:2d:4000:1001::8008, ...'\n8. 'Connecting to launchpadlibrarian.net (launchpadlibrarian.net)|185.125.189.228|:443... connected.'\n9. 'HTTP request sent, awaiting response... 200 OK'\n10. 'Length: 18376 (18K) [application/x-debian-package]'\n11. 'Saving to: ‘/tmp/tmp.QL3NsVaSsZ’'\n12. ''\n13. <span style=white-space:pre-wrap>'     0K .......... .......                                    100% 95.5M=0s'</span>\n14. ''\n15. '2023-05-23 14:42:58 (95.5 MB/s) - ‘/tmp/tmp.QL3NsVaSsZ’ saved [18376/18376]'\n16. ''\n\n\n",
            "text/latex": "\\begin{enumerate*}\n\\item '--2023-05-23 14:42:57--  https://launchpad.net/\\textasciitilde{}cidlab/+archive/ubuntu/jwm/+files/jags-wiener-module\\_1.1-5\\_amd64.deb'\n\\item 'Resolving launchpad.net (launchpad.net)... 185.125.189.223, 185.125.189.222, 2620:2d:4000:1001::8003, ...'\n\\item 'Connecting to launchpad.net (launchpad.net)\\textbar{}185.125.189.223\\textbar{}:443... connected.'\n\\item 'HTTP request sent, awaiting response... 303 See Other'\n\\item 'Location: https://launchpadlibrarian.net/289923160/jags-wiener-module\\_1.1-5\\_amd64.deb {[}following{]}'\n\\item '--2023-05-23 14:42:57--  https://launchpadlibrarian.net/289923160/jags-wiener-module\\_1.1-5\\_amd64.deb'\n\\item 'Resolving launchpadlibrarian.net (launchpadlibrarian.net)... 185.125.189.228, 185.125.189.229, 2620:2d:4000:1001::8008, ...'\n\\item 'Connecting to launchpadlibrarian.net (launchpadlibrarian.net)\\textbar{}185.125.189.228\\textbar{}:443... connected.'\n\\item 'HTTP request sent, awaiting response... 200 OK'\n\\item 'Length: 18376 (18K) {[}application/x-debian-package{]}'\n\\item 'Saving to: ‘/tmp/tmp.QL3NsVaSsZ’'\n\\item ''\n\\item '     0K .......... .......                                    100\\% 95.5M=0s'\n\\item ''\n\\item '2023-05-23 14:42:58 (95.5 MB/s) - ‘/tmp/tmp.QL3NsVaSsZ’ saved {[}18376/18376{]}'\n\\item ''\n\\end{enumerate*}\n",
            "text/plain": [
              " [1] \"--2023-05-23 14:42:57--  https://launchpad.net/~cidlab/+archive/ubuntu/jwm/+files/jags-wiener-module_1.1-5_amd64.deb\"       \n",
              " [2] \"Resolving launchpad.net (launchpad.net)... 185.125.189.223, 185.125.189.222, 2620:2d:4000:1001::8003, ...\"                  \n",
              " [3] \"Connecting to launchpad.net (launchpad.net)|185.125.189.223|:443... connected.\"                                             \n",
              " [4] \"HTTP request sent, awaiting response... 303 See Other\"                                                                      \n",
              " [5] \"Location: https://launchpadlibrarian.net/289923160/jags-wiener-module_1.1-5_amd64.deb [following]\"                          \n",
              " [6] \"--2023-05-23 14:42:57--  https://launchpadlibrarian.net/289923160/jags-wiener-module_1.1-5_amd64.deb\"                       \n",
              " [7] \"Resolving launchpadlibrarian.net (launchpadlibrarian.net)... 185.125.189.228, 185.125.189.229, 2620:2d:4000:1001::8008, ...\"\n",
              " [8] \"Connecting to launchpadlibrarian.net (launchpadlibrarian.net)|185.125.189.228|:443... connected.\"                           \n",
              " [9] \"HTTP request sent, awaiting response... 200 OK\"                                                                             \n",
              "[10] \"Length: 18376 (18K) [application/x-debian-package]\"                                                                         \n",
              "[11] \"Saving to: ‘/tmp/tmp.QL3NsVaSsZ’\"                                                                                           \n",
              "[12] \"\"                                                                                                                           \n",
              "[13] \"     0K .......... .......                                    100% 95.5M=0s\"                                                \n",
              "[14] \"\"                                                                                                                           \n",
              "[15] \"2023-05-23 14:42:58 (95.5 MB/s) - ‘/tmp/tmp.QL3NsVaSsZ’ saved [18376/18376]\"                                                \n",
              "[16] \"\"                                                                                                                           "
            ]
          },
          "metadata": {}
        },
        {
          "output_type": "stream",
          "name": "stdout",
          "text": [
            "System information: Welcome to JAGS 4.3.2 on Tue May 23 14:42:58 2023 JAGS is free software and comes with ABSOLUTELY NO WARRANTY Loading module: basemod: ok Loading module: bugs: ok .  \n"
          ]
        }
      ]
    },
    {
      "cell_type": "code",
      "source": [
        "#Install and library\n",
        "install.packages(c(\"rjags\",\"runjags\"))\n",
        "library(rjags)\n",
        "library(runjags)"
      ],
      "metadata": {
        "id": "-o2vqepJeqPH",
        "outputId": "3ba2826b-2c5a-4734-bb71-c6057a70eb52",
        "colab": {
          "base_uri": "https://localhost:8080/"
        }
      },
      "execution_count": null,
      "outputs": [
        {
          "output_type": "stream",
          "name": "stderr",
          "text": [
            "Installing packages into ‘/usr/local/lib/R/site-library’\n",
            "(as ‘lib’ is unspecified)\n",
            "\n",
            "also installing the dependency ‘coda’\n",
            "\n",
            "\n",
            "Loading required package: coda\n",
            "\n",
            "Linked to JAGS 4.3.2\n",
            "\n",
            "Loaded modules: basemod,bugs\n",
            "\n"
          ]
        }
      ]
    },
    {
      "cell_type": "markdown",
      "source": [
        "# Bayesian modelling"
      ],
      "metadata": {
        "id": "Fdr8ofh7gDUv"
      }
    },
    {
      "cell_type": "code",
      "source": [
        "#Anne Thebault code inspired from the source\n",
        "#https://bmcbioinformatics.biomedcentral.com/articles/10.1186/s12859-021-04496-8\n",
        "library (rjags)\n",
        "rm(list = ls())\n",
        "set.seed(1234)\n",
        "\n",
        "N<-50\n",
        "y<-rnorm(N,10,3)\n",
        "# 4 censored values\n",
        "Ncens=4\n",
        "y<-sort(y)\n",
        "yinit<-y\n",
        "mean(y)\n",
        "sd(y)\n",
        "#LOQ 7\n",
        "censorLimitm = c(rep(y[Ncens],4))\n",
        "isobserved = c(rep(FALSE,Ncens))\n",
        "isobserved = as.numeric(isobserved)\n",
        "y[1:4] = NA\n",
        "\n",
        "\n",
        "##2 datasets\n",
        "No=Ncens+1\n",
        "\n",
        "dataList = list( y = y , No = No,Ncens=Ncens, N=N,\n",
        "                 isobserved = as.numeric(isobserved) # JAGS dinterval needs 0,1 not T,F\n",
        "                 , censorLimitm = censorLimitm # vector of limits\n",
        "                 )\n",
        "\n",
        "\n",
        "\n",
        "modelstring = \"\n",
        "model {\n",
        "  for ( i in 1:Ncens ) {\n",
        "    isobserved[i] ~ dinterval( y[i] , censorLimitm[i] )\n",
        "    y[i] ~ dnorm( mu , tau ) \n",
        "  }\n",
        "for ( j in No:N ) {\n",
        "     y[j] ~ dnorm( mu , tau ) \n",
        "  }\n",
        "##Priors\n",
        "  tau <- 1/pow(sigma,2)\n",
        "  sigma ~ dunif(0,100)\n",
        "  mu ~ dnorm(0,1E-6)\n",
        "}\n",
        "\" # close quote for modelstring\n",
        "writeLines(modelstring,con=\"model.txt\")\n",
        "# INTIALIZE THE CHAINS.\n",
        "\n",
        "sigmaInit = 15\n",
        "muInit = 100\n",
        "# intial values of censored data:\n",
        "yInit = rep( NA , length(y) )\n",
        "yInit[1:4] = censorLimitm[1:4]\n",
        "\n",
        "\n",
        "initsList = list( mu=muInit , sigma = sigmaInit, y=yInit)\n",
        "\n",
        "\n",
        "\n",
        "parameters = c( \"mu\" , \"sigma\",\"y\" )\n",
        "adaptSteps = 1000 # overkill, just shows general form\n",
        "burnInSteps = 2000 # overkill, just shows general form\n",
        "nChains = 3 \n",
        "numSavedSteps=50000\n",
        "thinSteps=1\n",
        "nIter = ceiling( ( numSavedSteps * thinSteps ) / nChains )\n",
        "# Create, initialize, and adapt the model:\n",
        "jagsModel = jags.model( \"model.txt\" , data=dataList , inits=initsList , \n",
        "                        n.chains=nChains , n.adapt=adaptSteps )\n",
        "# Burn-in:\n",
        "cat( \"Burning in the MCMC chain...\\n\" )\n",
        "update( jagsModel , n.iter=burnInSteps )\n",
        "# The saved MCMC chain:\n",
        "cat( \"Sampling final MCMC chain...\\n\" )\n",
        "codaSamples = coda.samples( jagsModel , variable.names=parameters , \n",
        "                            n.iter=nIter , thin=thinSteps )\n",
        "# resulting codaSamples object has these indices: \n",
        "#   codaSamples[[ chainIdx ]][ stepIdx , paramIdx ]\n",
        "summary(codaSamples)\n",
        "mu<-rbind(codaSamples[[1]][,1],codaSamples[[2]][,1],codaSamples[[3]][,1])\n",
        "mean(mu)\n",
        "parameters1 = c( \"mu\" , \"sigma\")\n",
        "codaSamples = coda.samples( jagsModel , variable.names=parameters1 , \n",
        "                            n.iter=nIter , thin=thinSteps )\n",
        "\n",
        "gelman.diag(codaSamples)\n",
        "mean(yinit)\n"
      ],
      "metadata": {
        "id": "eD-cjWBEGXXO",
        "colab": {
          "base_uri": "https://localhost:8080/",
          "height": 1000
        },
        "outputId": "bb77b82d-f528-44a2-c891-1fa1b55769e3"
      },
      "execution_count": null,
      "outputs": [
        {
          "output_type": "display_data",
          "data": {
            "text/html": [
              "8.64084096449932"
            ],
            "text/markdown": "8.64084096449932",
            "text/latex": "8.64084096449932",
            "text/plain": [
              "[1] 8.640841"
            ]
          },
          "metadata": {}
        },
        {
          "output_type": "display_data",
          "data": {
            "text/html": [
              "2.65513053891395"
            ],
            "text/markdown": "2.65513053891395",
            "text/latex": "2.65513053891395",
            "text/plain": [
              "[1] 2.655131"
            ]
          },
          "metadata": {}
        },
        {
          "output_type": "stream",
          "name": "stdout",
          "text": [
            "Compiling model graph\n",
            "   Resolving undeclared variables\n",
            "   Allocating nodes\n",
            "Graph information:\n",
            "   Observed stochastic nodes: 50\n",
            "   Unobserved stochastic nodes: 6\n",
            "   Total graph size: 70\n",
            "\n",
            "Initializing model\n",
            "\n",
            "Burning in the MCMC chain...\n",
            "Sampling final MCMC chain...\n"
          ]
        },
        {
          "output_type": "display_data",
          "data": {
            "text/plain": [
              "\n",
              "Iterations = 3001:19667\n",
              "Thinning interval = 1 \n",
              "Number of chains = 3 \n",
              "Sample size per chain = 16667 \n",
              "\n",
              "1. Empirical mean and standard deviation for each variable,\n",
              "   plus standard error of the mean:\n",
              "\n",
              "        Mean     SD Naive SE Time-series SE\n",
              "mu     8.641 0.3917 0.001752       0.001785\n",
              "sigma  2.727 0.3019 0.001350       0.002028\n",
              "y[1]   4.268 1.2173 0.005444       0.005806\n",
              "y[2]   4.275 1.2206 0.005459       0.005796\n",
              "y[3]   4.272 1.2163 0.005439       0.005680\n",
              "y[4]   4.277 1.2155 0.005436       0.005754\n",
              "y[5]   5.977 0.0000 0.000000       0.000000\n",
              "y[6]   6.244 0.0000 0.000000       0.000000\n",
              "y[7]   6.379 0.0000 0.000000       0.000000\n",
              "y[8]   6.497 0.0000 0.000000       0.000000\n",
              "y[9]   6.678 0.0000 0.000000       0.000000\n",
              "y[10]  6.794 0.0000 0.000000       0.000000\n",
              "y[11]  6.929 0.0000 0.000000       0.000000\n",
              "y[12]  7.005 0.0000 0.000000       0.000000\n",
              "y[13]  7.017 0.0000 0.000000       0.000000\n",
              "y[14]  7.094 0.0000 0.000000       0.000000\n",
              "y[15]  7.192 0.0000 0.000000       0.000000\n",
              "y[16]  7.266 0.0000 0.000000       0.000000\n",
              "y[17]  7.330 0.0000 0.000000       0.000000\n",
              "y[18]  7.434 0.0000 0.000000       0.000000\n",
              "y[19]  7.488 0.0000 0.000000       0.000000\n",
              "y[20]  7.671 0.0000 0.000000       0.000000\n",
              "y[21]  7.872 0.0000 0.000000       0.000000\n",
              "y[22]  7.919 0.0000 0.000000       0.000000\n",
              "y[23]  8.276 0.0000 0.000000       0.000000\n",
              "y[24]  8.307 0.0000 0.000000       0.000000\n",
              "y[25]  8.360 0.0000 0.000000       0.000000\n",
              "y[26]  8.429 0.0000 0.000000       0.000000\n",
              "y[27]  8.467 0.0000 0.000000       0.000000\n",
              "y[28]  8.496 0.0000 0.000000       0.000000\n",
              "y[29]  8.509 0.0000 0.000000       0.000000\n",
              "y[30]  8.528 0.0000 0.000000       0.000000\n",
              "y[31]  8.568 0.0000 0.000000       0.000000\n",
              "y[32]  8.573 0.0000 0.000000       0.000000\n",
              "y[33]  8.602 0.0000 0.000000       0.000000\n",
              "y[34]  8.678 0.0000 0.000000       0.000000\n",
              "y[35]  9.117 0.0000 0.000000       0.000000\n",
              "y[36]  9.158 0.0000 0.000000       0.000000\n",
              "y[37]  9.669 0.0000 0.000000       0.000000\n",
              "y[38]  9.955 0.0000 0.000000       0.000000\n",
              "y[39] 10.193 0.0000 0.000000       0.000000\n",
              "y[40] 10.402 0.0000 0.000000       0.000000\n",
              "y[41] 10.832 0.0000 0.000000       0.000000\n",
              "y[42] 11.287 0.0000 0.000000       0.000000\n",
              "y[43] 11.379 0.0000 0.000000       0.000000\n",
              "y[44] 11.518 0.0000 0.000000       0.000000\n",
              "y[45] 11.724 0.0000 0.000000       0.000000\n",
              "y[46] 12.878 0.0000 0.000000       0.000000\n",
              "y[47] 13.253 0.0000 0.000000       0.000000\n",
              "y[48] 13.307 0.0000 0.000000       0.000000\n",
              "y[49] 14.348 0.0000 0.000000       0.000000\n",
              "y[50] 17.248 0.0000 0.000000       0.000000\n",
              "\n",
              "2. Quantiles for each variable:\n",
              "\n",
              "        2.5%    25%    50%    75%  97.5%\n",
              "mu     7.856  8.382  8.643  8.903  9.405\n",
              "sigma  2.210  2.514  2.701  2.911  3.394\n",
              "y[1]   1.156  3.681  4.600  5.191  5.613\n",
              "y[2]   1.146  3.688  4.607  5.204  5.615\n",
              "y[3]   1.156  3.685  4.597  5.197  5.613\n",
              "y[4]   1.156  3.682  4.609  5.202  5.614\n",
              "y[5]   5.977  5.977  5.977  5.977  5.977\n",
              "y[6]   6.244  6.244  6.244  6.244  6.244\n",
              "y[7]   6.379  6.379  6.379  6.379  6.379\n",
              "y[8]   6.497  6.497  6.497  6.497  6.497\n",
              "y[9]   6.678  6.678  6.678  6.678  6.678\n",
              "y[10]  6.794  6.794  6.794  6.794  6.794\n",
              "y[11]  6.929  6.929  6.929  6.929  6.929\n",
              "y[12]  7.005  7.005  7.005  7.005  7.005\n",
              "y[13]  7.017  7.017  7.017  7.017  7.017\n",
              "y[14]  7.094  7.094  7.094  7.094  7.094\n",
              "y[15]  7.192  7.192  7.192  7.192  7.192\n",
              "y[16]  7.266  7.266  7.266  7.266  7.266\n",
              "y[17]  7.330  7.330  7.330  7.330  7.330\n",
              "y[18]  7.434  7.434  7.434  7.434  7.434\n",
              "y[19]  7.488  7.488  7.488  7.488  7.488\n",
              "y[20]  7.671  7.671  7.671  7.671  7.671\n",
              "y[21]  7.872  7.872  7.872  7.872  7.872\n",
              "y[22]  7.919  7.919  7.919  7.919  7.919\n",
              "y[23]  8.276  8.276  8.276  8.276  8.276\n",
              "y[24]  8.307  8.307  8.307  8.307  8.307\n",
              "y[25]  8.360  8.360  8.360  8.360  8.360\n",
              "y[26]  8.429  8.429  8.429  8.429  8.429\n",
              "y[27]  8.467  8.467  8.467  8.467  8.467\n",
              "y[28]  8.496  8.496  8.496  8.496  8.496\n",
              "y[29]  8.509  8.509  8.509  8.509  8.509\n",
              "y[30]  8.528  8.528  8.528  8.528  8.528\n",
              "y[31]  8.568  8.568  8.568  8.568  8.568\n",
              "y[32]  8.573  8.573  8.573  8.573  8.573\n",
              "y[33]  8.602  8.602  8.602  8.602  8.602\n",
              "y[34]  8.678  8.678  8.678  8.678  8.678\n",
              "y[35]  9.117  9.117  9.117  9.117  9.117\n",
              "y[36]  9.158  9.158  9.158  9.158  9.158\n",
              "y[37]  9.669  9.669  9.669  9.669  9.669\n",
              "y[38]  9.955  9.955  9.955  9.955  9.955\n",
              "y[39] 10.193 10.193 10.193 10.193 10.193\n",
              "y[40] 10.402 10.402 10.402 10.402 10.402\n",
              "y[41] 10.832 10.832 10.832 10.832 10.832\n",
              "y[42] 11.287 11.287 11.287 11.287 11.287\n",
              "y[43] 11.379 11.379 11.379 11.379 11.379\n",
              "y[44] 11.518 11.518 11.518 11.518 11.518\n",
              "y[45] 11.724 11.724 11.724 11.724 11.724\n",
              "y[46] 12.878 12.878 12.878 12.878 12.878\n",
              "y[47] 13.253 13.253 13.253 13.253 13.253\n",
              "y[48] 13.307 13.307 13.307 13.307 13.307\n",
              "y[49] 14.348 14.348 14.348 14.348 14.348\n",
              "y[50] 17.248 17.248 17.248 17.248 17.248\n"
            ]
          },
          "metadata": {}
        },
        {
          "output_type": "display_data",
          "data": {
            "text/html": [
              "8.64068010186014"
            ],
            "text/markdown": "8.64068010186014",
            "text/latex": "8.64068010186014",
            "text/plain": [
              "[1] 8.64068"
            ]
          },
          "metadata": {}
        },
        {
          "output_type": "display_data",
          "data": {
            "text/plain": [
              "Potential scale reduction factors:\n",
              "\n",
              "      Point est. Upper C.I.\n",
              "mu             1          1\n",
              "sigma          1          1\n",
              "\n",
              "Multivariate psrf\n",
              "\n",
              "1"
            ]
          },
          "metadata": {}
        },
        {
          "output_type": "display_data",
          "data": {
            "text/html": [
              "8.64084096449932"
            ],
            "text/markdown": "8.64084096449932",
            "text/latex": "8.64084096449932",
            "text/plain": [
              "[1] 8.640841"
            ]
          },
          "metadata": {}
        }
      ]
    },
    {
      "cell_type": "code",
      "source": [],
      "metadata": {
        "id": "dKqUiuRCfTLp"
      },
      "execution_count": null,
      "outputs": []
    }
  ]
}