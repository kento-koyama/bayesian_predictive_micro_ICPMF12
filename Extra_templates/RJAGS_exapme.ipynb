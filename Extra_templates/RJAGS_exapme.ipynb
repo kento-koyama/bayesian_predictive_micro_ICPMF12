{
  "nbformat": 4,
  "nbformat_minor": 0,
  "metadata": {
    "colab": {
      "provenance": [],
      "include_colab_link": true
    },
    "kernelspec": {
      "name": "ir",
      "display_name": "R"
    },
    "language_info": {
      "name": "R"
    },
    "gpuClass": "standard"
  },
  "cells": [
    {
      "cell_type": "markdown",
      "metadata": {
        "id": "view-in-github",
        "colab_type": "text"
      },
      "source": [
        "<a href=\"https://colab.research.google.com/github/kento-koyama/bayesian_predictive_micro_ICPMF12/blob/main/Extra_templates/RJAGS_exapme.ipynb\" target=\"_parent\"><img src=\"https://colab.research.google.com/assets/colab-badge.svg\" alt=\"Open In Colab\"/></a>"
      ]
    },
    {
      "cell_type": "markdown",
      "source": [
        "<table class=\"tfo-notebook-buttons\" align=\"left\">\n",
        "<td>\n",
        "<a target=\"_blank\" href=\"https://github.com/kento-koyama/bayesian_predictive_micro_ICPMF12/\"><img src=\"https://www.tensorflow.org/images/GitHub-Mark-32px.png\" />View source on GitHub</a>\n",
        "</td>\n",
        "</table>"
      ],
      "metadata": {
        "id": "cWaG4JWji0I5"
      }
    },
    {
      "cell_type": "markdown",
      "source": [
        "# Setting for RJAGS"
      ],
      "metadata": {
        "id": "3WLrm8QUf7B0"
      }
    },
    {
      "cell_type": "code",
      "source": [
        "uname <- system(\"uname -a\", intern = TRUE)\n",
        "cat(\"System information:\", uname, \"\\n\")\n",
        "# Get the current working directory\n",
        "cwd <- getwd()\n",
        "cat(\"Current working directory:\", cwd, \"\\n\")\n",
        "system(\"sudo apt-get update\")\n",
        "system(\"sudo apt-get install jags\")\n",
        "# Check the JAGS location\n",
        "jags_location <- system(\"which jags\", intern = TRUE)\n",
        "cat(\"JAGS Location:\", jags_location, \"\\n\")\n",
        "temp_file <- system(\"mktemp\", intern = TRUE)\n",
        "# Download the JAGS Wiener module .deb file\n",
        "jags_url <- \"https://launchpad.net/~cidlab/+archive/ubuntu/jwm/+files/jags-wiener-module_1.1-5_amd64.deb\"\n",
        "wget_result <- system2(\"wget\", c(\"-O\", temp_file, jags_url), stdout = TRUE, stderr = TRUE)\n",
        "wget_result\n",
        "# Install the JAGS Wiener module .deb file\n",
        "install_result <- system2(\"sudo\", c(\"dpkg\", \"-i\", temp_file), stdout = TRUE, stderr = TRUE)\n",
        "# Remove the JAGS Wiener module .deb file\n",
        "system(paste(\"rm -f\", temp_file))\n",
        "uname <- system(\"jags\", intern = TRUE)\n",
        "cat(\"System information:\", uname, \"\\n\")"
      ],
      "metadata": {
        "id": "Pn_rb4PdStc1",
        "colab": {
          "base_uri": "https://localhost:8080/",
          "height": 280
        },
        "outputId": "9cdd5204-dbde-4927-d8a9-85670719fbfb"
      },
      "execution_count": null,
      "outputs": [
        {
          "output_type": "stream",
          "name": "stdout",
          "text": [
            "System information: Linux b19d8456cbe0 5.10.147+ #1 SMP Sat Dec 10 16:00:40 UTC 2022 x86_64 x86_64 x86_64 GNU/Linux \n",
            "Current working directory: /content \n",
            "JAGS Location: /usr/bin/jags \n"
          ]
        },
        {
          "output_type": "display_data",
          "data": {
            "text/html": [
              "<style>\n",
              ".list-inline {list-style: none; margin:0; padding: 0}\n",
              ".list-inline>li {display: inline-block}\n",
              ".list-inline>li:not(:last-child)::after {content: \"\\00b7\"; padding: 0 .5ex}\n",
              "</style>\n",
              "<ol class=list-inline><li><span style=white-space:pre-wrap>'--2023-04-13 11:57:33--  https://launchpad.net/~cidlab/+archive/ubuntu/jwm/+files/jags-wiener-module_1.1-5_amd64.deb'</span></li><li>'Resolving launchpad.net (launchpad.net)... 185.125.189.222, 185.125.189.223, 2620:2d:4000:1001::8003, ...'</li><li>'Connecting to launchpad.net (launchpad.net)|185.125.189.222|:443... connected.'</li><li>'HTTP request sent, awaiting response... 303 See Other'</li><li>'Location: https://launchpadlibrarian.net/289923160/jags-wiener-module_1.1-5_amd64.deb [following]'</li><li><span style=white-space:pre-wrap>'--2023-04-13 11:57:34--  https://launchpadlibrarian.net/289923160/jags-wiener-module_1.1-5_amd64.deb'</span></li><li>'Resolving launchpadlibrarian.net (launchpadlibrarian.net)... 185.125.189.229, 185.125.189.228, 2620:2d:4000:1001::8007, ...'</li><li>'Connecting to launchpadlibrarian.net (launchpadlibrarian.net)|185.125.189.229|:443... connected.'</li><li>'HTTP request sent, awaiting response... 200 OK'</li><li>'Length: 18376 (18K) [application/x-debian-package]'</li><li>'Saving to: ‘/tmp/tmp.eRRE9nk2lv’'</li><li>''</li><li><span style=white-space:pre-wrap>'     0K .......... .......                                    100% 63.1M=0s'</span></li><li>''</li><li>'2023-04-13 11:57:39 (63.1 MB/s) - ‘/tmp/tmp.eRRE9nk2lv’ saved [18376/18376]'</li><li>''</li></ol>\n"
            ],
            "text/markdown": "1. <span style=white-space:pre-wrap>'--2023-04-13 11:57:33--  https://launchpad.net/~cidlab/+archive/ubuntu/jwm/+files/jags-wiener-module_1.1-5_amd64.deb'</span>\n2. 'Resolving launchpad.net (launchpad.net)... 185.125.189.222, 185.125.189.223, 2620:2d:4000:1001::8003, ...'\n3. 'Connecting to launchpad.net (launchpad.net)|185.125.189.222|:443... connected.'\n4. 'HTTP request sent, awaiting response... 303 See Other'\n5. 'Location: https://launchpadlibrarian.net/289923160/jags-wiener-module_1.1-5_amd64.deb [following]'\n6. <span style=white-space:pre-wrap>'--2023-04-13 11:57:34--  https://launchpadlibrarian.net/289923160/jags-wiener-module_1.1-5_amd64.deb'</span>\n7. 'Resolving launchpadlibrarian.net (launchpadlibrarian.net)... 185.125.189.229, 185.125.189.228, 2620:2d:4000:1001::8007, ...'\n8. 'Connecting to launchpadlibrarian.net (launchpadlibrarian.net)|185.125.189.229|:443... connected.'\n9. 'HTTP request sent, awaiting response... 200 OK'\n10. 'Length: 18376 (18K) [application/x-debian-package]'\n11. 'Saving to: ‘/tmp/tmp.eRRE9nk2lv’'\n12. ''\n13. <span style=white-space:pre-wrap>'     0K .......... .......                                    100% 63.1M=0s'</span>\n14. ''\n15. '2023-04-13 11:57:39 (63.1 MB/s) - ‘/tmp/tmp.eRRE9nk2lv’ saved [18376/18376]'\n16. ''\n\n\n",
            "text/latex": "\\begin{enumerate*}\n\\item '--2023-04-13 11:57:33--  https://launchpad.net/\\textasciitilde{}cidlab/+archive/ubuntu/jwm/+files/jags-wiener-module\\_1.1-5\\_amd64.deb'\n\\item 'Resolving launchpad.net (launchpad.net)... 185.125.189.222, 185.125.189.223, 2620:2d:4000:1001::8003, ...'\n\\item 'Connecting to launchpad.net (launchpad.net)\\textbar{}185.125.189.222\\textbar{}:443... connected.'\n\\item 'HTTP request sent, awaiting response... 303 See Other'\n\\item 'Location: https://launchpadlibrarian.net/289923160/jags-wiener-module\\_1.1-5\\_amd64.deb {[}following{]}'\n\\item '--2023-04-13 11:57:34--  https://launchpadlibrarian.net/289923160/jags-wiener-module\\_1.1-5\\_amd64.deb'\n\\item 'Resolving launchpadlibrarian.net (launchpadlibrarian.net)... 185.125.189.229, 185.125.189.228, 2620:2d:4000:1001::8007, ...'\n\\item 'Connecting to launchpadlibrarian.net (launchpadlibrarian.net)\\textbar{}185.125.189.229\\textbar{}:443... connected.'\n\\item 'HTTP request sent, awaiting response... 200 OK'\n\\item 'Length: 18376 (18K) {[}application/x-debian-package{]}'\n\\item 'Saving to: ‘/tmp/tmp.eRRE9nk2lv’'\n\\item ''\n\\item '     0K .......... .......                                    100\\% 63.1M=0s'\n\\item ''\n\\item '2023-04-13 11:57:39 (63.1 MB/s) - ‘/tmp/tmp.eRRE9nk2lv’ saved {[}18376/18376{]}'\n\\item ''\n\\end{enumerate*}\n",
            "text/plain": [
              " [1] \"--2023-04-13 11:57:33--  https://launchpad.net/~cidlab/+archive/ubuntu/jwm/+files/jags-wiener-module_1.1-5_amd64.deb\"       \n",
              " [2] \"Resolving launchpad.net (launchpad.net)... 185.125.189.222, 185.125.189.223, 2620:2d:4000:1001::8003, ...\"                  \n",
              " [3] \"Connecting to launchpad.net (launchpad.net)|185.125.189.222|:443... connected.\"                                             \n",
              " [4] \"HTTP request sent, awaiting response... 303 See Other\"                                                                      \n",
              " [5] \"Location: https://launchpadlibrarian.net/289923160/jags-wiener-module_1.1-5_amd64.deb [following]\"                          \n",
              " [6] \"--2023-04-13 11:57:34--  https://launchpadlibrarian.net/289923160/jags-wiener-module_1.1-5_amd64.deb\"                       \n",
              " [7] \"Resolving launchpadlibrarian.net (launchpadlibrarian.net)... 185.125.189.229, 185.125.189.228, 2620:2d:4000:1001::8007, ...\"\n",
              " [8] \"Connecting to launchpadlibrarian.net (launchpadlibrarian.net)|185.125.189.229|:443... connected.\"                           \n",
              " [9] \"HTTP request sent, awaiting response... 200 OK\"                                                                             \n",
              "[10] \"Length: 18376 (18K) [application/x-debian-package]\"                                                                         \n",
              "[11] \"Saving to: ‘/tmp/tmp.eRRE9nk2lv’\"                                                                                           \n",
              "[12] \"\"                                                                                                                           \n",
              "[13] \"     0K .......... .......                                    100% 63.1M=0s\"                                                \n",
              "[14] \"\"                                                                                                                           \n",
              "[15] \"2023-04-13 11:57:39 (63.1 MB/s) - ‘/tmp/tmp.eRRE9nk2lv’ saved [18376/18376]\"                                                \n",
              "[16] \"\"                                                                                                                           "
            ]
          },
          "metadata": {}
        },
        {
          "output_type": "stream",
          "name": "stdout",
          "text": [
            "System information: Welcome to JAGS 4.3.0 on Thu Apr 13 11:57:39 2023 JAGS is free software and comes with ABSOLUTELY NO WARRANTY Loading module: basemod: ok Loading module: bugs: ok .  \n"
          ]
        }
      ]
    },
    {
      "cell_type": "code",
      "source": [
        "#Install and library\n",
        "install.packages(c(\"rjags\",\"runjags\"))\n",
        "library(rjags)\n",
        "library(runjags)"
      ],
      "metadata": {
        "id": "-o2vqepJeqPH",
        "outputId": "bedd2555-a97b-46e1-d117-a79bf9e6d59e",
        "colab": {
          "base_uri": "https://localhost:8080/"
        }
      },
      "execution_count": null,
      "outputs": [
        {
          "output_type": "stream",
          "name": "stderr",
          "text": [
            "Installing packages into ‘/usr/local/lib/R/site-library’\n",
            "(as ‘lib’ is unspecified)\n",
            "\n",
            "also installing the dependency ‘coda’\n",
            "\n",
            "\n",
            "Loading required package: coda\n",
            "\n",
            "Linked to JAGS 4.3.0\n",
            "\n",
            "Loaded modules: basemod,bugs\n",
            "\n"
          ]
        }
      ]
    },
    {
      "cell_type": "markdown",
      "source": [
        "# Bayesian modelling"
      ],
      "metadata": {
        "id": "Fdr8ofh7gDUv"
      }
    },
    {
      "cell_type": "code",
      "source": [
        "n.occasions <- 50\n",
        "a.tru <- -1\n",
        "b.tru <- -2\n",
        "c.tru <- 1\n",
        "sd.tru <- 0.5\n",
        "\n",
        "# coef に入れた任意の長さの数値ベクトルを係数として、多項式の値を出力する。\n",
        "funcPolynom <- function(x, coef) {\n",
        "    p <- length(coef)\n",
        "    ans <- 0\n",
        "    for (i in 1:p) {\n",
        "        product <- coef[i]*(x^(i-1))\n",
        "        ans <- ans + product\n",
        "    }\n",
        "    return(ans)\n",
        "}\n",
        "\n",
        "set.seed(114514) # 皆様のPC環境で同じ結果が得られるように、乱数のシードを指定。\n",
        "x <- rnorm(n=n.occasions, mean=1, sd=1) # 説明変数の値を作成。\n",
        "surv15 <- funcPolynom(x, coef=c(a.tru, b.tru, c.tru)) # 応答値 (mu) を作成。\n",
        "surv15var <- surv15+rnorm(n.occasions, mean=0, sd=sd.tru) # 測定誤差の足された応答値 (y) を作成。\n"
      ],
      "metadata": {
        "id": "eD-cjWBEGXXO"
      },
      "execution_count": null,
      "outputs": []
    },
    {
      "cell_type": "code",
      "source": [
        "# 関数の形を描いておく\n",
        "library(ggplot2)\n",
        "XLIM <- c(-2, 4)\n",
        "YLIM <- c(-4, 8)\n",
        "filename.pdf <- \"runjags_Fig01.pdf\"\n",
        "filename.png <- \"runjags_Fig01.png\"\n",
        "p <- ggplot(data.frame(x=x), aes(x=x, y=surv15var)) + \n",
        "    stat_function(  fun=funcPolynom, \n",
        "                    args=list(coef=c(a.tru, b.tru, c.tru)), linetype=1, size=0.75) + \n",
        "    annotate(\"segment\", x=x, xend=x, y=surv15, yend=surv15var, col=rgb(0, 0, 0), size=0.25) +\n",
        "    geom_point(col=rgb(0, 0.5, 0.8), size=0.75) +\n",
        "    geom_abline(intercept=0, slope=0, linetype=\"solid\", size=1/3) + \n",
        "    theme_classic(base_size=9) +\n",
        "    theme(legend.position=\"none\") + # no legend\n",
        "    coord_fixed(ratio=0.5) +\n",
        "    scale_x_continuous(expand=c(0, 0), limit=XLIM, breaks=c(-2, 0, 2, 4)) + \n",
        "    scale_y_continuous(expand=c(0, 0), limit=YLIM, breaks=seq(-4, 8, by=2)) + \n",
        "    annotate(   \"text\", x=1, y=2, label=\"italic(mu) == -1 -2*italic(x) + italic(x)^2\", \n",
        "                parse=TRUE, size=3, hjust=0.5) +\n",
        "    labs( title=\"\", x=\"x\", y=\"y\" )\n",
        "ggsave(file=filename.pdf, device=cairo_pdf, plot=p, dpi=300, width=8/2.54, height=8/2.54, units=\"in\")\n",
        "ggsave(file=filename.png, plot=p, dpi=300, width=3, height=3, units=\"in\")"
      ],
      "metadata": {
        "id": "4Ib9oWsMGYnd",
        "colab": {
          "base_uri": "https://localhost:8080/"
        },
        "outputId": "d11e10b7-beaf-4c1e-a79f-ca2584c8322b"
      },
      "execution_count": null,
      "outputs": [
        {
          "output_type": "stream",
          "name": "stderr",
          "text": [
            "Warning message:\n",
            "“\u001b[1m\u001b[22mUsing `size` aesthetic for lines was deprecated in ggplot2 3.4.0.\n",
            "\u001b[36mℹ\u001b[39m Please use `linewidth` instead.”\n"
          ]
        }
      ]
    },
    {
      "cell_type": "code",
      "source": [
        "# 観測データ\n",
        "jags.data <- list(\n",
        "  n = n.occasions,\n",
        "  x = x,\n",
        "  y = surv15var\n",
        ")\n",
        "\n",
        "# モデルファイル名\n",
        "jagsname <- \"model01.jags\"\n",
        "\n",
        "# モデルファイルの作成\n",
        "writeLines(\"\n",
        "model {\n",
        "    Tau.nif <- 1.0E-3;\n",
        "    P.gamma <- 1.0E-3;\n",
        "\n",
        "    # 個々のパラメータに対する事前分布\n",
        "    a ~ dnorm(0, Tau.nif);\n",
        "    b ~ dnorm(0, Tau.nif);\n",
        "    c ~ dnorm(0, Tau.nif);\n",
        "    tau ~ dgamma(P.gamma, P.gamma);\n",
        "    sigma <- 1/sqrt(tau);\n",
        "\n",
        "    # 尤度モデル\n",
        "    for (i in 1:n) {\n",
        "        mu[i] <- a + b*x[i] + c*pow(x[i], 2); # x[i]^2 == pow(x[i], 2) in JAGS version 4\n",
        "        y[i] ~ dnorm(mu[i], tau);\n",
        "    }\n",
        "}\n",
        "\", con = jagsname)\n"
      ],
      "metadata": {
        "id": "YEOXgP7KXAA2"
      },
      "execution_count": null,
      "outputs": []
    },
    {
      "cell_type": "code",
      "source": [
        "\n",
        "# MCMC の条件設定。\n",
        "monitor <- c(\"a\", \"b\", \"c\", \"sigma\") # 上のモデルで MC のサンプリング対象とする変数。\n",
        "n.chains <- 3 # チェーンの数は、初期値リスト作成よりも前で定義すること\n",
        "\n",
        "\n",
        "# stochastic node の初期値リスト。チェーンの数だけ用意する必要があるので、ジェネレータとして作る。\n",
        "# .RNG.seed と .RNG.name に挟まれた行に、各 stochastic node の初期値を与える乱数を置く。\n",
        "set.seed(10) # 後日結果を再現したい場合のため、乱数のシードを決めておく。\n",
        "func_init <- function(i) {\n",
        "    list(\n",
        "        .RNG.seed=i+0.1,\n",
        "        a=rnorm(1, 0, 1),\n",
        "        b=rnorm(1, 0, 1),\n",
        "        c=rnorm(1, 0, 1),\n",
        "        tau=rgamma(1, 1, 1),\n",
        "        .RNG.name=\"base::Mersenne-Twister\")\n",
        "}\n",
        "inits <- list(func_init(1)) # 最初の要素を二重リストにしてから、for文内部で append する。\n",
        "if (n.chains > 1) {\n",
        "    for (i in 2:n.chains) {\n",
        "        set.seed(100+i)\n",
        "        inits <- append(inits, list(func_init(i))) # リストをさらにリストで包んでから連結。\n",
        "    }\n",
        "}\n",
        "set.seed(1000);\n",
        "str(inits); # 一応見ておきましょう\n"
      ],
      "metadata": {
        "id": "YnpxeWvjHcxo",
        "colab": {
          "base_uri": "https://localhost:8080/"
        },
        "outputId": "a8223f07-7585-42e6-f894-6c7967b3f1e2"
      },
      "execution_count": null,
      "outputs": [
        {
          "output_type": "stream",
          "name": "stdout",
          "text": [
            "List of 3\n",
            " $ :List of 6\n",
            "  ..$ .RNG.seed: num 1.1\n",
            "  ..$ a        : num 0.0187\n",
            "  ..$ b        : num -0.184\n",
            "  ..$ c        : num -1.37\n",
            "  ..$ tau      : num 0.166\n",
            "  ..$ .RNG.name: chr \"base::Mersenne-Twister\"\n",
            " $ :List of 6\n",
            "  ..$ .RNG.seed: num 2.1\n",
            "  ..$ a        : num 0.181\n",
            "  ..$ b        : num 0.785\n",
            "  ..$ c        : num -1.35\n",
            "  ..$ tau      : num 2.89\n",
            "  ..$ .RNG.name: chr \"base::Mersenne-Twister\"\n",
            " $ :List of 6\n",
            "  ..$ .RNG.seed: num 3.1\n",
            "  ..$ a        : num -0.786\n",
            "  ..$ b        : num 0.0547\n",
            "  ..$ c        : num -1.17\n",
            "  ..$ tau      : num 0.389\n",
            "  ..$ .RNG.name: chr \"base::Mersenne-Twister\"\n"
          ]
        }
      ]
    },
    {
      "cell_type": "code",
      "source": [
        "# MCMC の実行。複数コアを使うメソッド \"parallel\" で runjags する。\n",
        "name_anl <- \"runjags.test101\"\n",
        "library(rjags); library(runjags); findjags(); # パッケージをロード。おまじないで findjags() すべし。\n",
        "system.time(\n",
        "assign(name_anl, run.jags(  model=jagsname, monitor=monitor, data=jags.data,\n",
        "                            inits=inits, n.chains=n.chains,\n",
        "                            adapt=1000, burnin=49000, sample=10000, thin=10,# sample*thin 繰り返す\n",
        "                            ) )\n",
        ")\n",
        "# Graph size 486, chain=3, system time 7.5 sec. # 150000回で7.5秒\n",
        "get(name_anl) # 事後分布の表示\n",
        "name_time <- format(Sys.time(), \"%Y-%m-%d_%H.%M.%S\")\n",
        "plot(get(name_anl), layout=c(2, 2), file=paste(name_anl, name_time, \"pdf\", sep=\".\"))\n",
        "plot(get(name_anl), layout=c(2, 2))"
      ],
      "metadata": {
        "id": "y8oMZe4RHi1R",
        "colab": {
          "base_uri": "https://localhost:8080/",
          "height": 538
        },
        "outputId": "652974ad-97ce-4b6d-9de7-9d0cabf6e6c3"
      },
      "execution_count": null,
      "outputs": [
        {
          "output_type": "display_data",
          "data": {
            "text/html": [
              "'/usr/bin/jags'"
            ],
            "text/markdown": "'/usr/bin/jags'",
            "text/latex": "'/usr/bin/jags'",
            "text/plain": [
              "[1] \"/usr/bin/jags\""
            ]
          },
          "metadata": {}
        },
        {
          "output_type": "stream",
          "name": "stdout",
          "text": [
            "Compiling rjags model...\n",
            "Calling the simulation using the rjags method...\n",
            "Note: the model did not require adaptation\n",
            "Burning in the model for 49000 iterations...\n",
            "Running the model for 100000 iterations...\n",
            "Simulation complete\n",
            "Calculating summary statistics...\n",
            "Calculating the Gelman-Rubin statistic for 4 variables....\n",
            "Finished running the simulation\n"
          ]
        },
        {
          "output_type": "display_data",
          "data": {
            "text/plain": [
              "   user  system elapsed \n",
              "  5.243   0.036   5.368 "
            ]
          },
          "metadata": {}
        },
        {
          "output_type": "display_data",
          "data": {
            "text/plain": [
              "\n",
              "JAGS model summary statistics from 30000 samples (thin = 10; chains = 3; adapt+burnin = 50000):\n",
              "                                                                             \n",
              "      Lower95  Median  Upper95    Mean       SD Mode      MCerr MC%ofSD SSeff\n",
              "a     -1.2811 -1.0756 -0.85861 -1.0752  0.10728   -- 0.00060837     0.6 31099\n",
              "b     -2.1122 -1.8755  -1.6444 -1.8763  0.11842   -- 0.00074193     0.6 25476\n",
              "c     0.85504 0.96271    1.069 0.96243  0.05428   -- 0.00034162     0.6 25246\n",
              "sigma  0.4169 0.51279  0.62662 0.51749 0.054492   -- 0.00030764     0.6 31375\n",
              "                        \n",
              "          AC.100    psrf\n",
              "a     0.00047752       1\n",
              "b     -0.0042878  1.0001\n",
              "c     -0.0012303 0.99998\n",
              "sigma -0.0024568       1\n",
              "\n",
              "Total time taken: 5.3 seconds\n"
            ]
          },
          "metadata": {}
        },
        {
          "output_type": "stream",
          "name": "stdout",
          "text": [
            "Generating plots...\n",
            "Generating plots...\n"
          ]
        }
      ]
    },
    {
      "cell_type": "code",
      "source": [],
      "metadata": {
        "id": "dKqUiuRCfTLp"
      },
      "execution_count": null,
      "outputs": []
    }
  ]
}