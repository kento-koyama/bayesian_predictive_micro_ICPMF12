{
  "nbformat": 4,
  "nbformat_minor": 0,
  "metadata": {
    "colab": {
      "private_outputs": true,
      "provenance": [],
      "include_colab_link": true
    },
    "kernelspec": {
      "name": "ir",
      "display_name": "R"
    },
    "language_info": {
      "name": "R"
    },
    "gpuClass": "standard"
  },
  "cells": [
    {
      "cell_type": "markdown",
      "metadata": {
        "id": "view-in-github",
        "colab_type": "text"
      },
      "source": [
        "<a href=\"https://colab.research.google.com/github/kento-koyama/bayesian_predictive_micro_ICPMF12/blob/main/Extra_templates/New_RJAGS_Code.ipynb\" target=\"_parent\"><img src=\"https://colab.research.google.com/assets/colab-badge.svg\" alt=\"Open In Colab\"/></a>"
      ]
    },
    {
      "cell_type": "code",
      "source": [
        "#Set up JAGS\n",
        "\n",
        "uname <- system(\"uname -a\", intern = TRUE)\n",
        "cat(\"System information:\", uname, \"\\n\")\n",
        "# Get the current working directory\n",
        "cwd <- getwd()\n",
        "cat(\"Current working directory:\", cwd, \"\\n\")\n",
        "system(\"sudo apt-get update\")\n",
        "system(\"sudo apt-get install jags\")\n",
        "# Check the JAGS location\n",
        "jags_location <- system(\"which jags\", intern = TRUE)\n",
        "cat(\"JAGS Location:\", jags_location, \"\\n\")\n",
        "temp_file <- system(\"mktemp\", intern = TRUE)\n",
        "# Download the JAGS Wiener module .deb file\n",
        "jags_url <- \"https://launchpad.net/~cidlab/+archive/ubuntu/jwm/+files/jags-wiener-module_1.1-5_amd64.deb\"\n",
        "wget_result <- system2(\"wget\", c(\"-O\", temp_file, jags_url), stdout = TRUE, stderr = TRUE)\n",
        "wget_result\n",
        "# Install the JAGS Wiener module .deb file\n",
        "install_result <- system2(\"sudo\", c(\"dpkg\", \"-i\", temp_file), stdout = TRUE, stderr = TRUE)\n",
        "# Remove the JAGS Wiener module .deb file\n",
        "system(paste(\"rm -f\", temp_file))\n",
        "uname <- system(\"jags\", intern = TRUE)\n",
        "cat(\"System information:\", uname, \"\\n\")"
      ],
      "metadata": {
        "id": "SCJaO6GkN_20"
      },
      "execution_count": null,
      "outputs": []
    },
    {
      "cell_type": "code",
      "source": [
        "#Install and library\n",
        "install.packages(c(\"rjags\",\"runjags\"))\n",
        "library(rjags)\n",
        "library(runjags)"
      ],
      "metadata": {
        "id": "0JxsHE9RiYLu"
      },
      "execution_count": null,
      "outputs": []
    }
  ]
}