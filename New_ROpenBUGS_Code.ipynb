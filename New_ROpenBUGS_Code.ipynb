{
  "nbformat": 4,
  "nbformat_minor": 0,
  "metadata": {
    "colab": {
      "private_outputs": true,
      "provenance": [],
      "include_colab_link": true
    },
    "kernelspec": {
      "name": "ir",
      "display_name": "R"
    },
    "language_info": {
      "name": "R"
    },
    "gpuClass": "standard"
  },
  "cells": [
    {
      "cell_type": "markdown",
      "metadata": {
        "id": "view-in-github",
        "colab_type": "text"
      },
      "source": [
        "<a href=\"https://colab.research.google.com/github/kento-koyama/bayesian_predictive_micro_ICPMF12/blob/main/New_ROpenBUGS_Code.ipynb\" target=\"_parent\"><img src=\"https://colab.research.google.com/assets/colab-badge.svg\" alt=\"Open In Colab\"/></a>"
      ]
    },
    {
      "cell_type": "code",
      "source": [
        "#Set up OpenBUGS\n",
        "system(\"git clone https://github.com/kento-koyama/bayesian_predictive_micro_ICPMF12.git\", intern=TRUE)\n",
        "system(\"mv /content/bayesian_predictive_micro_ICPMF12/OpenBUGS-3.2.3.tar.gz /content\", intern=TRUE)\n",
        "system(\"apt-get install automake\", intern=TRUE)\n",
        "system(\"apt-get install gcc-multilib\", intern=TRUE)\n",
        "system(\"tar zxvf OpenBUGS-3.2.3.tar.gz\", intern=TRUE)\n",
        "system(\"cd OpenBUGS-3.2.3\",intern=TRUE)\n",
        "setwd(\"./OpenBUGS-3.2.3\")\n",
        "system(\"ls\",intern=TRUE)\n",
        "system(\"./configure\",intern=TRUE)\n",
        "system(\"make\",intern=TRUE)\n",
        "system(\"sudo make install\",intern=TRUE)\n",
        "system(\"man OpenBUGS\",intern=TRUE)"
      ],
      "metadata": {
        "id": "SCJaO6GkN_20"
      },
      "execution_count": null,
      "outputs": []
    },
    {
      "cell_type": "code",
      "source": [
        "#Install and library\n",
        "install.packages(c(\"coda\",\"lattice\"))\n",
        "install.packages(c(\"BRugs\", \"coda\",\"R2WinBUGS\",\"Rcpp\",\"R2OpenBUGS\"))\n",
        "library(R2WinBUGS) \n",
        "library(R2OpenBUGS) \n",
        "library(BRugs) "
      ],
      "metadata": {
        "id": "0JxsHE9RiYLu"
      },
      "execution_count": null,
      "outputs": []
    }
  ]
}
