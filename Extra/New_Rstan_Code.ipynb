{
  "nbformat": 4,
  "nbformat_minor": 0,
  "metadata": {
    "colab": {
      "provenance": [],
      "include_colab_link": true
    },
    "kernelspec": {
      "name": "ir",
      "display_name": "R"
    },
    "language_info": {
      "name": "R"
    }
  },
  "cells": [
    {
      "cell_type": "markdown",
      "metadata": {
        "id": "view-in-github",
        "colab_type": "text"
      },
      "source": [
        "<a href=\"https://colab.research.google.com/github/kento-koyama/bayesian_predictive_micro_ICPMF12/blob/main/New_Rstan_Code.ipynb\" target=\"_parent\"><img src=\"https://colab.research.google.com/assets/colab-badge.svg\" alt=\"Open In Colab\"/></a>"
      ]
    },
    {
      "cell_type": "code",
      "source": [
        "##As of January 2021, it is working well.\n",
        "x<-installed.packages()\n",
        "if(any(x[,1]== 'rstan') == FALSE){\n",
        "    system(\"add-apt-repository -y ppa:marutter/rrutter4.0\")\n",
        "    system(\"add-apt-repository -y ppa:c2d4u.team/c2d4u4.0+\") \n",
        "    system(\"add-apt-repository ppa:cran/v8\") \n",
        "    system(\"apt-get update\") \n",
        "    system(\"apt-get install libnode-dev\") \n",
        "    system(\"apt-get install r-cran-rstan\")\n",
        "}\n"
      ],
      "metadata": {
        "id": "FIZs4lt3IYb8"
      },
      "execution_count": null,
      "outputs": []
    },
    {
      "cell_type": "code",
      "source": [
        "#Loading the Rstan package.\n",
        "library(rstan) "
      ],
      "metadata": {
        "colab": {
          "base_uri": "https://localhost:8080/"
        },
        "id": "ErFUOYdVIaLQ",
        "outputId": "c4d4c330-6469-4ad6-a1af-583434f865de"
      },
      "execution_count": null,
      "outputs": [
        {
          "output_type": "stream",
          "name": "stderr",
          "text": [
            "Loading required package: StanHeaders\n",
            "\n",
            "Loading required package: ggplot2\n",
            "\n",
            "rstan (Version 2.21.8, GitRev: 2e1f913d3ca3)\n",
            "\n",
            "For execution on a local, multicore CPU with excess RAM we recommend calling\n",
            "options(mc.cores = parallel::detectCores()).\n",
            "To avoid recompilation of unchanged Stan programs, we recommend calling\n",
            "rstan_options(auto_write = TRUE)\n",
            "\n"
          ]
        }
      ]
    }
  ]
}
