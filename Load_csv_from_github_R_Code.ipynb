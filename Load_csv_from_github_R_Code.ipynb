{
  "nbformat": 4,
  "nbformat_minor": 0,
  "metadata": {
    "colab": {
      "private_outputs": true,
      "provenance": [],
      "include_colab_link": true
    },
    "kernelspec": {
      "name": "ir",
      "display_name": "R"
    },
    "language_info": {
      "name": "R"
    },
    "gpuClass": "standard"
  },
  "cells": [
    {
      "cell_type": "markdown",
      "metadata": {
        "id": "view-in-github",
        "colab_type": "text"
      },
      "source": [
        "<a href=\"https://colab.research.google.com/github/kento-koyama/bayesian_predictive_micro_ICPMF12/blob/main/Load_csv_from_github_R_Code.ipynb\" target=\"_parent\"><img src=\"https://colab.research.google.com/assets/colab-badge.svg\" alt=\"Open In Colab\"/></a>"
      ]
    },
    {
      "cell_type": "code",
      "source": [
        "# Install required libraries\n",
        "install.packages(\"httr\")\n",
        "install.packages(\"readr\")\n",
        "\n",
        "# Load the required libraries\n",
        "library(httr)\n",
        "library(readr)\n",
        "\n",
        "# Function to retrieve a CSV file from GitHub\n",
        "get_csv_from_github <- function(url) {\n",
        "  # Set headers for accessing the GitHub API\n",
        "  headers <- c(\n",
        "    \"Accept\" = \"application/vnd.github.v3+json\",\n",
        "    \"User-Agent\" = \"My R Script\"\n",
        "  )\n",
        "  \n",
        "  # Send a GET request to fetch the file\n",
        "  response <- GET(url, headers = headers)\n",
        "  \n",
        "  # Display an error if the status code is not 200 (OK)\n",
        "  if (status_code(response) != 200) {\n",
        "    stop(\"Failed to retrieve the CSV file.\")\n",
        "  }\n",
        "  \n",
        "  # Extract the content from the response\n",
        "  content <- content(response, as = \"text\")\n",
        "  \n",
        "  # Read the CSV as a data frame\n",
        "  df <- read_csv(content)\n",
        "  \n",
        "  return(df)\n",
        "}\n",
        "\n",
        "# URL of the CSV file on GitHub\n",
        "csv_url <- \"https://raw.githubusercontent.com/Satoko-Hiura/Bayesian-generalized-linear-model-for-simulating-bacterial-inactivation-growth/main/code/growth/data/bayesian_fitting.csv\"\n",
        "\n",
        "# Get the CSV file\n",
        "data <- get_csv_from_github(csv_url)\n",
        "\n",
        "# Print the retrieved data\n",
        "print(data)"
      ],
      "metadata": {
        "id": "3bj2hG-ziqo_"
      },
      "execution_count": null,
      "outputs": []
    }
  ]
}